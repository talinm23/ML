{
  "cells": [
    {
      "cell_type": "markdown",
      "metadata": {
        "id": "view-in-github",
        "colab_type": "text"
      },
      "source": [
        "<a href=\"https://colab.research.google.com/github/talinm23/ML/blob/main/Copy_of_parsing_pdfs_step2.ipynb\" target=\"_parent\"><img src=\"https://colab.research.google.com/assets/colab-badge.svg\" alt=\"Open In Colab\"/></a>"
      ]
    },
    {
      "cell_type": "code",
      "source": [
        "# In order to run these codes (parsing pdfs step 1 and 2), you can run them in a Google Colab notebook.\n",
        "# To run fast, you should get connected to a GPU in the Colab environment.\n",
        "# In the Colab secrets, create and copy your HUGGING_FACE_TOKEN and MONGO_URI (MongoDB URI) to the Secrets section."
      ],
      "metadata": {
        "id": "84qxzDrHscPE"
      },
      "execution_count": null,
      "outputs": []
    },
    {
      "cell_type": "code",
      "source": [
        "# Clear all variables\n",
        "%reset -f\n",
        "#Check for Persistent Extensions or Cache Files\n",
        "import os\n",
        "import shutil\n",
        "cache_dir = os.path.expanduser('~/.cache')\n",
        "shutil.rmtree(cache_dir, ignore_errors=True)"
      ],
      "metadata": {
        "id": "xPyl7WV2scR9"
      },
      "execution_count": null,
      "outputs": []
    },
    {
      "cell_type": "code",
      "source": [
        "# imports and granting access to the google drive to extrace the saved embedding vector information from the step 1 notebook.\n",
        "import pandas as pd\n",
        "from ast import literal_eval\n",
        "\n",
        "# Get connected to Google drive\n",
        "from google.colab import drive\n",
        "drive.mount('/content/drive')"
      ],
      "metadata": {
        "id": "5aQ0zvRAscYD",
        "colab": {
          "base_uri": "https://localhost:8080/"
        },
        "outputId": "bea9ee49-ad7e-4e49-d1e7-13e10daee2c0"
      },
      "execution_count": null,
      "outputs": [
        {
          "output_type": "stream",
          "name": "stdout",
          "text": [
            "Mounted at /content/drive\n"
          ]
        }
      ]
    },
    {
      "cell_type": "code",
      "source": [
        "# Access the saved file from step 1.\n",
        "file_path_to_save = '/content/drive/My Drive/Colab_Notebooks/csv_saved/'\n",
        "dataset = pd.read_csv(file_path_to_save+'dataset_embedded.csv')"
      ],
      "metadata": {
        "id": "4t62YgJwsfNS"
      },
      "execution_count": null,
      "outputs": []
    },
    {
      "cell_type": "code",
      "source": [
        "# Apply literal_eval on the \"embeddings\" column to extract the list inside the string in each row and save it into a new column.\n",
        "dataset['embedding'] = dataset['embedding_'].apply(literal_eval)"
      ],
      "metadata": {
        "id": "pZkAIWMN9ge7"
      },
      "execution_count": null,
      "outputs": []
    },
    {
      "cell_type": "code",
      "source": [
        "pip install pymongo"
      ],
      "metadata": {
        "id": "gGNs-bdIuD3U",
        "colab": {
          "base_uri": "https://localhost:8080/"
        },
        "outputId": "4fd996a3-5d47-4a3f-f880-3ba460b98f66"
      },
      "execution_count": null,
      "outputs": [
        {
          "output_type": "stream",
          "name": "stdout",
          "text": [
            "Collecting pymongo\n",
            "  Downloading pymongo-4.14.1-cp312-cp312-manylinux_2_17_x86_64.manylinux2014_x86_64.whl.metadata (22 kB)\n",
            "Collecting dnspython<3.0.0,>=1.16.0 (from pymongo)\n",
            "  Downloading dnspython-2.7.0-py3-none-any.whl.metadata (5.8 kB)\n",
            "Downloading pymongo-4.14.1-cp312-cp312-manylinux_2_17_x86_64.manylinux2014_x86_64.whl (1.7 MB)\n",
            "\u001b[2K   \u001b[90m━━━━━━━━━━━━━━━━━━━━━━━━━━━━━━━━━━━━━━━━\u001b[0m \u001b[32m1.7/1.7 MB\u001b[0m \u001b[31m29.5 MB/s\u001b[0m eta \u001b[36m0:00:00\u001b[0m\n",
            "\u001b[?25hDownloading dnspython-2.7.0-py3-none-any.whl (313 kB)\n",
            "\u001b[2K   \u001b[90m━━━━━━━━━━━━━━━━━━━━━━━━━━━━━━━━━━━━━━━━\u001b[0m \u001b[32m313.6/313.6 kB\u001b[0m \u001b[31m28.4 MB/s\u001b[0m eta \u001b[36m0:00:00\u001b[0m\n",
            "\u001b[?25hInstalling collected packages: dnspython, pymongo\n",
            "Successfully installed dnspython-2.7.0 pymongo-4.14.1\n"
          ]
        }
      ]
    },
    {
      "cell_type": "code",
      "source": [
        "# Connecting to MongoDB\n",
        "import pymongo\n",
        "from google.colab import userdata\n",
        "\n",
        "def get_mongo_client(mongo_uri):\n",
        "  \"\"\"Establish connection to the MongoDB.\"\"\"\n",
        "  try:\n",
        "    client = pymongo.MongoClient(mongo_uri, appname=\"devrel.content.python\"\n",
        "    #,ssl=True,tlsAllowInvalidCertificates=True\n",
        "    ,connectTimeoutMS=40000\n",
        "    ,socketTimeoutMS=40000)\n",
        "    print(\"Connection to MongoDB successful\")\n",
        "    return client\n",
        "  except pymongo.errors.ConnectionFailure as e:\n",
        "    print(f\"Connection failed: {e}\")\n",
        "    return None\n",
        "\n",
        "mongo_uri = userdata.get('MONGO_URI')\n",
        "if not mongo_uri:\n",
        "  print(\"MONGO_URI not set in environment variables\")\n",
        "\n",
        "mongo_client = get_mongo_client(mongo_uri)\n",
        "\n",
        "# Ingest data into MongoDB (into the created collection)\n",
        "db = mongo_client['coldwell']\n",
        "collection = db['coldwell_collection']\n",
        "print('db:',db)\n",
        "print('collection:',collection)"
      ],
      "metadata": {
        "id": "06Hy-pPgjvjo",
        "colab": {
          "base_uri": "https://localhost:8080/"
        },
        "outputId": "0348e067-f246-4d80-81d3-b43c4cc2a7a9"
      },
      "execution_count": null,
      "outputs": [
        {
          "output_type": "stream",
          "name": "stdout",
          "text": [
            "Connection to MongoDB successful\n",
            "db: Database(MongoClient(host=['cluster0-shard-00-00.ptqsh.mongodb.net:27017', 'cluster0-shard-00-02.ptqsh.mongodb.net:27017', 'cluster0-shard-00-01.ptqsh.mongodb.net:27017'], document_class=dict, tz_aware=False, connect=True, retrywrites=True, w='majority', authsource='admin', replicaset='atlas-zkcvmi-shard-0', appname='devrel.content.python', connecttimeoutms=40000, sockettimeoutms=40000, tls=True), 'coldwell')\n",
            "collection: Collection(Database(MongoClient(host=['cluster0-shard-00-00.ptqsh.mongodb.net:27017', 'cluster0-shard-00-02.ptqsh.mongodb.net:27017', 'cluster0-shard-00-01.ptqsh.mongodb.net:27017'], document_class=dict, tz_aware=False, connect=True, retrywrites=True, w='majority', authsource='admin', replicaset='atlas-zkcvmi-shard-0', appname='devrel.content.python', connecttimeoutms=40000, sockettimeoutms=40000, tls=True), 'coldwell'), 'coldwell_collection')\n"
          ]
        }
      ]
    },
    {
      "cell_type": "code",
      "source": [
        "# Delete any existing records in the collection just in case. So we start with an empty collection.\n",
        "collection.delete_many({})"
      ],
      "metadata": {
        "id": "u2ZBRSRTjvl7",
        "colab": {
          "base_uri": "https://localhost:8080/"
        },
        "outputId": "28225fa9-a2b8-4cef-8ace-45fb8db39230"
      },
      "execution_count": null,
      "outputs": [
        {
          "output_type": "execute_result",
          "data": {
            "text/plain": [
              "DeleteResult({'n': 6921, 'electionId': ObjectId('7fffffff00000000000001fa'), 'opTime': {'ts': Timestamp(1755877323, 481), 't': 506}, 'ok': 1.0, '$clusterTime': {'clusterTime': Timestamp(1755877323, 481), 'signature': {'hash': b'\\\\)V\\xce\\xa6\\x9eq\\xd1F\\xa4s\\x87L\\xad9\\xbc\\xf9S<G', 'keyId': 7495212647327989761}}, 'operationTime': Timestamp(1755877323, 481)}, acknowledged=True)"
            ]
          },
          "metadata": {},
          "execution_count": 9
        }
      ]
    },
    {
      "cell_type": "code",
      "source": [
        "# Convert the dataset into a list of dictionary, where each data row is a new record.\n",
        "# Then insert that documents variable in batch into the collection.\n",
        "documents = dataset.to_dict(\"records\")\n",
        "collection.insert_many(documents)\n",
        "print(\"Data ingestion into MongoDB completed\")"
      ],
      "metadata": {
        "id": "PazusyFXjvod",
        "colab": {
          "base_uri": "https://localhost:8080/"
        },
        "outputId": "200667c4-3fa9-4519-fdab-37e31910c94f"
      },
      "execution_count": null,
      "outputs": [
        {
          "output_type": "stream",
          "name": "stdout",
          "text": [
            "Data ingestion into MongoDB completed\n"
          ]
        }
      ]
    },
    {
      "cell_type": "code",
      "source": [
        "collection"
      ],
      "metadata": {
        "colab": {
          "base_uri": "https://localhost:8080/"
        },
        "id": "Q9YPY7gkvxT4",
        "outputId": "0f80fdd0-4deb-4bfd-a9e1-b558100a79aa"
      },
      "execution_count": null,
      "outputs": [
        {
          "output_type": "execute_result",
          "data": {
            "text/plain": [
              "Collection(Database(MongoClient(host=['cluster0-shard-00-00.ptqsh.mongodb.net:27017', 'cluster0-shard-00-02.ptqsh.mongodb.net:27017', 'cluster0-shard-00-01.ptqsh.mongodb.net:27017'], document_class=dict, tz_aware=False, connect=True, retrywrites=True, w='majority', authsource='admin', replicaset='atlas-zkcvmi-shard-0', appname='devrel.content.python', connecttimeoutms=40000, sockettimeoutms=40000, tls=True), 'coldwell'), 'coldwell_collection')"
            ]
          },
          "metadata": {},
          "execution_count": 52
        }
      ]
    },
    {
      "cell_type": "code",
      "source": [
        "from sentence_transformers import SentenceTransformer\n",
        "\n",
        "# https://huggingface.co/thenlper/gte-large\n",
        "embedding_model = SentenceTransformer(\"thenlper/gte-large\")\n",
        "\n",
        "\n",
        "def get_embedding(text: str) -> list[float]:\n",
        "    if not text.strip():\n",
        "        print(\"Attempted to get embedding for empty text.\")\n",
        "        return []\n",
        "\n",
        "    embedding = embedding_model.encode(text)\n",
        "\n",
        "    return embedding.tolist()"
      ],
      "metadata": {
        "id": "9NHCplxjLjb3"
      },
      "execution_count": null,
      "outputs": []
    },
    {
      "cell_type": "code",
      "source": [],
      "metadata": {
        "id": "tLvEyhZisUxe"
      },
      "execution_count": null,
      "outputs": []
    },
    {
      "cell_type": "code",
      "source": [
        "# Next, we perform a vector search in the MongoDB collection based on the\n",
        "# user query. We pass in the user's query string.\n",
        "# And it searches the MongoDB collection and returns a list of matchig documents.\n",
        "\n",
        "# Generate embedding for the user query\n",
        "query = \"What is the name of the author? what are the natural remedies according to the book? list the natural remedies from the book.\"\n",
        "\n",
        "query_embedding = get_embedding(query)\n",
        "\n",
        "# Define the vector search pipeline\n",
        "vector_search_stage = {\n",
        "    \"$vectorSearch\": {\n",
        "        \"index\": \"vector_index\",\n",
        "        \"queryVector\": query_embedding,\n",
        "        \"path\": \"embedding\",\n",
        "        \"numCandidates\": 1000 ,  # Number of candidate matches to consider\n",
        "        \"limit\": 50 # Return top n matches\n",
        "    }\n",
        "}\n",
        "\n",
        "project_stage = {\n",
        "    \"$project\": {\n",
        "        \"_id\": 1,  # Can exclude the _id field\n",
        "        \"sentences\": 1, # Include the sentences fields so that we see the actual sentences.\n",
        "        \"score\": {\n",
        "            \"$meta\": \"vectorSearchScore\"  # Include the search score\n",
        "        }\n",
        "    }\n",
        "}\n",
        "\n",
        "pipeline = [vector_search_stage, project_stage]\n",
        "results = collection.aggregate(pipeline)\n"
      ],
      "metadata": {
        "id": "DpsWrnRMKZ_1"
      },
      "execution_count": null,
      "outputs": []
    },
    {
      "cell_type": "code",
      "source": [
        "# Execute the search\n",
        "results = collection.aggregate(pipeline)\n",
        "\n",
        "# Define Get knowledge by the list of results returned from the vector search.\n",
        "get_knowledge = list(results)\n",
        "\n",
        "# Add all the qualifying sentences from the vector search.\n",
        "search_result = \"\"\n",
        "for result in get_knowledge:\n",
        "    search_result += f\"result: {result.get('sentences')}\\n\""
      ],
      "metadata": {
        "id": "scWgGgqQsMRI"
      },
      "execution_count": null,
      "outputs": []
    },
    {
      "cell_type": "code",
      "source": [
        "source_information = search_result\n",
        "combined_information = (\n",
        "    f\"Query: {query}\\nContinue to answer the query by using the Search Results:\\n{source_information}.\"\n",
        ")"
      ],
      "metadata": {
        "id": "RWYDYRqlKd_7"
      },
      "execution_count": null,
      "outputs": []
    },
    {
      "cell_type": "code",
      "source": [
        "from huggingface_hub import notebook_login\n",
        "from huggingface_hub import login\n",
        "notebook_login()"
      ],
      "metadata": {
        "id": "XF4RQys_KOaQ",
        "colab": {
          "base_uri": "https://localhost:8080/",
          "height": 17,
          "referenced_widgets": [
            "877d6b587e2948e1b8f569eea7dd914a",
            "80ff549097e04780acb6901e2dfba4ec",
            "ff75e117d1514311b3ad4b84693cb640",
            "66bc19ebdd2c4a35b2ee2b25fb9af7d6",
            "bc735733f0244f89a47f969d573dbb04",
            "01524bce57534492beecdcd417978d08",
            "3cddcc7444fb4c5aa47cbf08647e744a",
            "0484c1b359384bcfa20c389bb91750b3",
            "916e1182c28f4a4298ebd695f6e5f2f8",
            "1764547379f446b6b1a5e204e9b6ae86",
            "3909e2c1ef6342d6b7c307fa374df553",
            "5b5ec944e48d4afa98f5335982622024",
            "2b60adf1a28e43c8960c18c440a1c400",
            "5882080c0ba741f7b37d6cdbaffd5ea3",
            "1833b03bbc4a4116b41441834197a131",
            "b35421b3de514f6a9690944a2ae742c2",
            "1b426db4cf9e49c8bc3cacacab859b08",
            "6099464ebeb745d2b15f55f6db125c87",
            "b25d9f693672456ab6c197f334ba059d",
            "b953efff13f648658494ad0c14aedaa2"
          ]
        },
        "outputId": "78d4bf1a-26f1-48e5-f0b8-9b43c7efcfbd"
      },
      "execution_count": null,
      "outputs": [
        {
          "output_type": "display_data",
          "data": {
            "text/plain": [
              "VBox(children=(HTML(value='<center> <img\\nsrc=https://huggingface.co/front/assets/huggingface_logo-noborder.sv…"
            ],
            "application/vnd.jupyter.widget-view+json": {
              "version_major": 2,
              "version_minor": 0,
              "model_id": "877d6b587e2948e1b8f569eea7dd914a"
            }
          },
          "metadata": {}
        }
      ]
    },
    {
      "cell_type": "code",
      "source": [
        "from transformers import AutoTokenizer, AutoModelForCausalLM\n",
        "\n",
        "tokenizer = AutoTokenizer.from_pretrained(\"google/gemma-2b-it\")\n",
        "# CPU Enabled uncomment below 👇🏽\n",
        "# model = AutoModelForCausalLM.from_pretrained(\"google/gemma-2b-it\")\n",
        "# GPU Enabled use below 👇🏽\n",
        "model = AutoModelForCausalLM.from_pretrained(\"google/gemma-2b-it\", device_map=\"auto\")"
      ],
      "metadata": {
        "id": "mb4T4YasKaCd",
        "colab": {
          "base_uri": "https://localhost:8080/",
          "height": 49,
          "referenced_widgets": [
            "4c277360cce14f628f4b2eb5483e5b7e",
            "3bd87b7181c1442180ad8ae50364f984",
            "761c84300875416582a3a06caad45bc1",
            "fb11ce2980274f0ab256146e37f52f5b",
            "6f05388c8aab4e9dbd1a30db0c4c50cb",
            "e241300df66c40ca8684a12ac76e2981",
            "9c911a8c48cb4c6fb9c05068d21e4e47",
            "4a7b52b5b3f840a0a86469c9c1fc1864",
            "9d791e9608864d5090d5e60323462604",
            "d7eee5d0e68c47a9b69aef49031ca65f",
            "9884d634c5354210bd0eeb688747c741"
          ]
        },
        "outputId": "65f2d7a9-5a29-4ef9-af23-5c6bae02298c"
      },
      "execution_count": null,
      "outputs": [
        {
          "output_type": "display_data",
          "data": {
            "text/plain": [
              "Loading checkpoint shards:   0%|          | 0/2 [00:00<?, ?it/s]"
            ],
            "application/vnd.jupyter.widget-view+json": {
              "version_major": 2,
              "version_minor": 0,
              "model_id": "4c277360cce14f628f4b2eb5483e5b7e"
            }
          },
          "metadata": {}
        }
      ]
    },
    {
      "cell_type": "code",
      "source": [
        "# Moving tensors to GPU\n",
        "input_ids = tokenizer(combined_information, return_tensors=\"pt\").to(\"cuda\")\n",
        "response = model.generate(**input_ids, max_new_tokens=1000)\n",
        "print(tokenizer.decode(response[0]))"
      ],
      "metadata": {
        "colab": {
          "base_uri": "https://localhost:8080/"
        },
        "id": "gPR1HBallVBb",
        "outputId": "3847ba70-7d62-4131-cda1-d7f0a7bfb6b9"
      },
      "execution_count": null,
      "outputs": [
        {
          "output_type": "stream",
          "name": "stdout",
          "text": [
            "<bos>Query: What is the name of the author? what are the natural remedies according to the book? list the natural remedies from the book.\n",
            "Continue to answer the query by using the Search Results:\n",
            "result:  Read what the legendary natural healer Dr\n",
            "result:  After  being  an award -winning  author,  after  writing  22 best -selling  books  many  in 9 languages or  more  and seeing  why they  are so successful,  I decided  to write  an educational  book  about  health  and self-help  for all those  people  who don’t have as much knowledge about medicine or natural healing as a fully educated practitioner\n",
            "result: My books have the purpose to educate people so that they can protect themselves and cure themselves with natural means\n",
            "result: This book is written for the person with  common  sense  and the will to achieve  optimum  health  without getting killed by the medical profession, pharmaceutical industry  or the hocus pocus new age “wannabe healers” an d the new crowd of naturopathic  practitioners  with  no formal  education,  experience  or real life knowledge about health\n",
            "result: He read books about natural nutrition a nd behavior regimens based on natural methods\n",
            "result: This book is a testament to God’s truth and healing power, and my loving gift to  you!  Be prepared, because once this second book hits the mass market they will attack me personally and will try to destroy my name and reputation, but they cannot attack or disprove my message and my  cure —God’s  cure  and Nature’s  cure\n",
            "result: In the pages to come, I will show you how to activate your body’s natural healing powers\n",
            "result:  Many  of my relatives,  friends,  and acqua intances have been cured of all kinds of health problems through my  method of  natural  healing\n",
            "result:         237 | P a g e   Chapter 10   HOW I CURED MY PATIENTS FROM  ALL KINDS OF HEALTH CHALLENGES   The Book of Health™      From my books, here are some summar ies I want to share with you\n",
            "result:  Nature  has cures  for everything  and without  any negative  side effects\n",
            "result: Source: Chinese  Medicine\n",
            "result: I studied natural healing, explored all available information, researched, learned and  discovered!  86 | P a g e   I discovered something “new” that is actually as old as humanity itself: The only help is self -help, and the only way to healing is self -healing\n",
            "result: Otherwise, they use helpful and harmless natural  medicines\n",
            "result:       37 | P a g e   Chapter 2   INSTINCT BASED MEDICINE®  The guide for healthy action    Nearly ever y health and self -healing book I have ever read is written in a manner that is too complicated, too specific, too hard to understand, too manipulative, too out of this world, too  new age  or too much  like traditional  medicine\n",
            "result: Batmanghelidj, the author of The Body’s Many Cries for Water, has seen  similar  results  of 136 | P a g e   the body’s  self-healing  powers  just by water  application\n",
            "result: They are riding the wave of natural cures, alternative health etc ., etc., etc\n",
            "result: These are the people  that ridicule natural healing methods as  quackery\n",
            "result:  “The only way to perfect health and for prevention of health challenges  is to be yourself  the way you were  meant  to be by nature, God  or the Universe  or whatever  you believe  in, it is the same  thing anyway) there is no healing force outside the human body.”  I am writing  this book  because  the medical  profession  murdered my grandmother \n",
            "result: Look at how PERFECT nature is - why is it tha t for every illness, there is a plant, usually native to the local area where illness occurs, that is often the cure\n",
            "result: Review articles about diseases will either omit information about natural therapies or the information about natural treatments will be presented in such a biased or  negative way that no physician would want to use  it\n",
            "result: 1 | P a g e          2 | P a g e   THE  ONLY PATIENT CANCER CURE      Dr LEONARD COLDWELL3 | P a g e   IBMS® Instinct Based Medicine System®   The Only answer to® THE ONLY CANCER PATIENT CURE  Dr LEONARD COLDWELL   2nd Edition: Copyright © 2019, Cancer Patient  Advocate Foundation, a non -profit organi zation\n",
            "result:  I’ve spent  the past  45 years  showing  people  how  to activate  their body’s natural healing power\n",
            "result: The problem is, people like Bob give the ENTIRE natural cures industry a bad name\n",
            "result: Besi des stress relief, I used  only natural products to cure my patients, mainly natural cleanses  (cleanses  that  are  based  on  certified  organic  whole  foods)\n",
            "result:   They Think They Can Cure Cancer   I am so tired of people announcing that they have invented a natural cure for cancer then use this information to publish a book\n",
            "result: Source: Widely accepted by both western and alternative medical  communities\n",
            "result:  15 | P a g e   I know it will get even worse with the publication of this book because in it I tell you how easy it can be to cure canc er patients and how I did it\n",
            "result:  The only things that help the body to heal itself are natural elements like a healthy diet with plenty of water and fresh juices, correct  breathing  and exercise  and nutritional  supplements  with  no side effects\n",
            "result: From start to finish, I will show you how you can  rid yourself of disease using nothing else than the natural function of the body\n",
            "result: I learned from the Nati ve Indians in Canada and USA and  in South  America,  the natural  ways  of healing  and health\n",
            "result:  With  this motivation,  I read  every  book I could  find about  healing, orthodox medicine, natural healing, metaphysics and related matters, with the hope that I would find a way to heal my mother\n",
            "result: While studying naturopathic medicine, I discovered that new age stuff does not work\n",
            "result: Most of the time, these people have overcome life -threatening illnesses that they have cured through natural therapies like self -help and preventative techniques\n",
            "result:  There are many good reasons why physicians have 442 | P a g e   not started to use natural therapies:   • Physicians receive no education in medical school about the merits of natural treatments\n",
            "result: Who can I trust?”  “It will get better on its own.” “It’s just bad luck.”  “It’s genetic.”  “The doctors will cure me or the medication will help.”  This book is written for the person searching for health an d happiness who is willing to do his  own part to accelerate health and happiness and who is willing to take responsibility for his own well -being\n",
            "result:  • Only natural treatments are legal (the except ions are trauma care\n",
            "result:  • Turmeric  • Various  mushrooms  • Oleander  soup  • Coffee  Enemas  • Oxygen or Ozone therapy ( has some dangers Oxygen is safer  ) • Vitamin  D3, 150,000 to 200,000 IU per day or lots of  140 | P a g e   sunlight  • Raw food or macrobiotic  diets  • Full body and organ  cleanses  • DMSO and Cesium chloride  therapy  • Chinese Happy  Tree  • Honey with  cinnamon  • Organic Maple Syrup with baking soda, ½ tbsp Spoon baking soda on 2 tb sp Maple Syrup caramelized in a frying pan...eaten over the day\n",
            "result:   Belief #9 : “There is no known remedy for my illness \n",
            "result: Look at how PERFECT nature is - why is it that for every illness, there is a plant, usually native to the local area where illness occurs, that is o ften the cure\n",
            "result:  I studied  people  who  produced  results  unknown  in traditional medicine\n",
            "result: There is no way to combine traditional medicine and natural medicine\n",
            "result:   Pine Needle Tea: Fortify Yourself with this Unusual Cancer -Killer and All -Around Health Tonic   Pine needle  tea has been used for centuries by Native Americans\n",
            "result:   Becoming a Naturopathic Practitioner   I finished my studies as  a Natural Healing Physician (ND)\n",
            "result: Hay, Heal Your Body, Heal Your Life & Dr\n",
            "result: That is because traditional medicine harms or even kills and natural medicine helps the body to heal itself\n",
            "result: My education taught me that healing is based on the basic  laws of nature\n",
            "result: However,  if you’re  looking  for a magic  pill or a miracle  cure that  will fix all of your  problems  without  you taking  charge  and control over your own life and health, then this book 187 | P a g e   is not for  you\n",
            "result:  Cancer, diabetes, heart related problems, arthritis and so much more can be cured with all natural extremely cheap treatments that have been proven safe and effec tive in many cases even for thousands of years\n",
            "result:  Don’t wait for a second longer to educate yourself about your body’s natural healing power, and start using it immediately! Making  educated  decisions  is the best  defense  against  illness  and the best way to return to optimum  health\n",
            "result: In addition to the natural diet component, Dr\n",
            ". Leonard Coldwell's book also recommends a variety of natural remedies, including:\n",
            "\n",
            "**Natural Remedies from the Book**\n",
            "\n",
            "1. Turmeric\n",
            "2. Various mushrooms\n",
            "3. Oleander soup\n",
            "4. Coffee enemas\n",
            "5. Oxygen or ozone therapy\n",
            "6. Vitamin D3\n",
            "7. Raw food or macrobiotic diets\n",
            "8. Full body and organ cleanses\n",
            "9. DMSO and Cesium chloride therapy\n",
            "10. Chinese Happy Tree\n",
            "11. Honey with cinnamon\n",
            "12. Organic Maple Syrup with baking soda, ½ tbsp Spoon baking soda on 2 tb sp Maple Syrup caramelized in a frying pan...eaten over the day\n",
            "13. Pine Needle Tea\n",
            "14. Hay, Heal Your Body, Heal Your Life & Dr<eos>\n"
          ]
        }
      ]
    },
    {
      "cell_type": "code",
      "source": [],
      "metadata": {
        "id": "ymQdbEH8lVEy"
      },
      "execution_count": null,
      "outputs": []
    },
    {
      "cell_type": "code",
      "source": [],
      "metadata": {
        "id": "Gu0_9m3h5TKT"
      },
      "execution_count": null,
      "outputs": []
    },
    {
      "cell_type": "code",
      "source": [],
      "metadata": {
        "id": "Lt7C3NLB5TNF"
      },
      "execution_count": null,
      "outputs": []
    },
    {
      "cell_type": "code",
      "source": [],
      "metadata": {
        "id": "VlObdNtK5TPm"
      },
      "execution_count": null,
      "outputs": []
    },
    {
      "cell_type": "code",
      "source": [],
      "metadata": {
        "id": "BARlLajx5TS3"
      },
      "execution_count": null,
      "outputs": []
    }
  ],
  "metadata": {
    "colab": {
      "provenance": [],
      "gpuType": "T4",
      "authorship_tag": "ABX9TyNdcuFmx4sjXpRvvY97N10t",
      "include_colab_link": true
    },
    "kernelspec": {
      "display_name": "Python 3",
      "name": "python3"
    },
    "language_info": {
      "name": "python"
    },
    "accelerator": "GPU",
    "widgets": {
      "application/vnd.jupyter.widget-state+json": {
        "877d6b587e2948e1b8f569eea7dd914a": {
          "model_module": "@jupyter-widgets/controls",
          "model_name": "VBoxModel",
          "model_module_version": "1.5.0",
          "state": {
            "_dom_classes": [],
            "_model_module": "@jupyter-widgets/controls",
            "_model_module_version": "1.5.0",
            "_model_name": "VBoxModel",
            "_view_count": null,
            "_view_module": "@jupyter-widgets/controls",
            "_view_module_version": "1.5.0",
            "_view_name": "VBoxView",
            "box_style": "",
            "children": [],
            "layout": "IPY_MODEL_3cddcc7444fb4c5aa47cbf08647e744a"
          }
        },
        "80ff549097e04780acb6901e2dfba4ec": {
          "model_module": "@jupyter-widgets/controls",
          "model_name": "HTMLModel",
          "model_module_version": "1.5.0",
          "state": {
            "_dom_classes": [],
            "_model_module": "@jupyter-widgets/controls",
            "_model_module_version": "1.5.0",
            "_model_name": "HTMLModel",
            "_view_count": null,
            "_view_module": "@jupyter-widgets/controls",
            "_view_module_version": "1.5.0",
            "_view_name": "HTMLView",
            "description": "",
            "description_tooltip": null,
            "layout": "IPY_MODEL_0484c1b359384bcfa20c389bb91750b3",
            "placeholder": "​",
            "style": "IPY_MODEL_916e1182c28f4a4298ebd695f6e5f2f8",
            "value": "<center> <img\nsrc=https://huggingface.co/front/assets/huggingface_logo-noborder.svg\nalt='Hugging Face'> <br> Copy a token from <a\nhref=\"https://huggingface.co/settings/tokens\" target=\"_blank\">your Hugging Face\ntokens page</a> and paste it below. <br> Immediately click login after copying\nyour token or it might be stored in plain text in this notebook file. </center>"
          }
        },
        "ff75e117d1514311b3ad4b84693cb640": {
          "model_module": "@jupyter-widgets/controls",
          "model_name": "PasswordModel",
          "model_module_version": "1.5.0",
          "state": {
            "_dom_classes": [],
            "_model_module": "@jupyter-widgets/controls",
            "_model_module_version": "1.5.0",
            "_model_name": "PasswordModel",
            "_view_count": null,
            "_view_module": "@jupyter-widgets/controls",
            "_view_module_version": "1.5.0",
            "_view_name": "PasswordView",
            "continuous_update": true,
            "description": "Token:",
            "description_tooltip": null,
            "disabled": false,
            "layout": "IPY_MODEL_1764547379f446b6b1a5e204e9b6ae86",
            "placeholder": "​",
            "style": "IPY_MODEL_3909e2c1ef6342d6b7c307fa374df553",
            "value": ""
          }
        },
        "66bc19ebdd2c4a35b2ee2b25fb9af7d6": {
          "model_module": "@jupyter-widgets/controls",
          "model_name": "CheckboxModel",
          "model_module_version": "1.5.0",
          "state": {
            "_dom_classes": [],
            "_model_module": "@jupyter-widgets/controls",
            "_model_module_version": "1.5.0",
            "_model_name": "CheckboxModel",
            "_view_count": null,
            "_view_module": "@jupyter-widgets/controls",
            "_view_module_version": "1.5.0",
            "_view_name": "CheckboxView",
            "description": "Add token as git credential?",
            "description_tooltip": null,
            "disabled": false,
            "indent": true,
            "layout": "IPY_MODEL_5b5ec944e48d4afa98f5335982622024",
            "style": "IPY_MODEL_2b60adf1a28e43c8960c18c440a1c400",
            "value": true
          }
        },
        "bc735733f0244f89a47f969d573dbb04": {
          "model_module": "@jupyter-widgets/controls",
          "model_name": "ButtonModel",
          "model_module_version": "1.5.0",
          "state": {
            "_dom_classes": [],
            "_model_module": "@jupyter-widgets/controls",
            "_model_module_version": "1.5.0",
            "_model_name": "ButtonModel",
            "_view_count": null,
            "_view_module": "@jupyter-widgets/controls",
            "_view_module_version": "1.5.0",
            "_view_name": "ButtonView",
            "button_style": "",
            "description": "Login",
            "disabled": false,
            "icon": "",
            "layout": "IPY_MODEL_5882080c0ba741f7b37d6cdbaffd5ea3",
            "style": "IPY_MODEL_1833b03bbc4a4116b41441834197a131",
            "tooltip": ""
          }
        },
        "01524bce57534492beecdcd417978d08": {
          "model_module": "@jupyter-widgets/controls",
          "model_name": "HTMLModel",
          "model_module_version": "1.5.0",
          "state": {
            "_dom_classes": [],
            "_model_module": "@jupyter-widgets/controls",
            "_model_module_version": "1.5.0",
            "_model_name": "HTMLModel",
            "_view_count": null,
            "_view_module": "@jupyter-widgets/controls",
            "_view_module_version": "1.5.0",
            "_view_name": "HTMLView",
            "description": "",
            "description_tooltip": null,
            "layout": "IPY_MODEL_b35421b3de514f6a9690944a2ae742c2",
            "placeholder": "​",
            "style": "IPY_MODEL_1b426db4cf9e49c8bc3cacacab859b08",
            "value": "\n<b>Pro Tip:</b> If you don't already have one, you can create a dedicated\n'notebooks' token with 'write' access, that you can then easily reuse for all\nnotebooks. </center>"
          }
        },
        "3cddcc7444fb4c5aa47cbf08647e744a": {
          "model_module": "@jupyter-widgets/base",
          "model_name": "LayoutModel",
          "model_module_version": "1.2.0",
          "state": {
            "_model_module": "@jupyter-widgets/base",
            "_model_module_version": "1.2.0",
            "_model_name": "LayoutModel",
            "_view_count": null,
            "_view_module": "@jupyter-widgets/base",
            "_view_module_version": "1.2.0",
            "_view_name": "LayoutView",
            "align_content": null,
            "align_items": "center",
            "align_self": null,
            "border": null,
            "bottom": null,
            "display": "flex",
            "flex": null,
            "flex_flow": "column",
            "grid_area": null,
            "grid_auto_columns": null,
            "grid_auto_flow": null,
            "grid_auto_rows": null,
            "grid_column": null,
            "grid_gap": null,
            "grid_row": null,
            "grid_template_areas": null,
            "grid_template_columns": null,
            "grid_template_rows": null,
            "height": null,
            "justify_content": null,
            "justify_items": null,
            "left": null,
            "margin": null,
            "max_height": null,
            "max_width": null,
            "min_height": null,
            "min_width": null,
            "object_fit": null,
            "object_position": null,
            "order": null,
            "overflow": null,
            "overflow_x": null,
            "overflow_y": null,
            "padding": null,
            "right": null,
            "top": null,
            "visibility": null,
            "width": "50%"
          }
        },
        "0484c1b359384bcfa20c389bb91750b3": {
          "model_module": "@jupyter-widgets/base",
          "model_name": "LayoutModel",
          "model_module_version": "1.2.0",
          "state": {
            "_model_module": "@jupyter-widgets/base",
            "_model_module_version": "1.2.0",
            "_model_name": "LayoutModel",
            "_view_count": null,
            "_view_module": "@jupyter-widgets/base",
            "_view_module_version": "1.2.0",
            "_view_name": "LayoutView",
            "align_content": null,
            "align_items": null,
            "align_self": null,
            "border": null,
            "bottom": null,
            "display": null,
            "flex": null,
            "flex_flow": null,
            "grid_area": null,
            "grid_auto_columns": null,
            "grid_auto_flow": null,
            "grid_auto_rows": null,
            "grid_column": null,
            "grid_gap": null,
            "grid_row": null,
            "grid_template_areas": null,
            "grid_template_columns": null,
            "grid_template_rows": null,
            "height": null,
            "justify_content": null,
            "justify_items": null,
            "left": null,
            "margin": null,
            "max_height": null,
            "max_width": null,
            "min_height": null,
            "min_width": null,
            "object_fit": null,
            "object_position": null,
            "order": null,
            "overflow": null,
            "overflow_x": null,
            "overflow_y": null,
            "padding": null,
            "right": null,
            "top": null,
            "visibility": null,
            "width": null
          }
        },
        "916e1182c28f4a4298ebd695f6e5f2f8": {
          "model_module": "@jupyter-widgets/controls",
          "model_name": "DescriptionStyleModel",
          "model_module_version": "1.5.0",
          "state": {
            "_model_module": "@jupyter-widgets/controls",
            "_model_module_version": "1.5.0",
            "_model_name": "DescriptionStyleModel",
            "_view_count": null,
            "_view_module": "@jupyter-widgets/base",
            "_view_module_version": "1.2.0",
            "_view_name": "StyleView",
            "description_width": ""
          }
        },
        "1764547379f446b6b1a5e204e9b6ae86": {
          "model_module": "@jupyter-widgets/base",
          "model_name": "LayoutModel",
          "model_module_version": "1.2.0",
          "state": {
            "_model_module": "@jupyter-widgets/base",
            "_model_module_version": "1.2.0",
            "_model_name": "LayoutModel",
            "_view_count": null,
            "_view_module": "@jupyter-widgets/base",
            "_view_module_version": "1.2.0",
            "_view_name": "LayoutView",
            "align_content": null,
            "align_items": null,
            "align_self": null,
            "border": null,
            "bottom": null,
            "display": null,
            "flex": null,
            "flex_flow": null,
            "grid_area": null,
            "grid_auto_columns": null,
            "grid_auto_flow": null,
            "grid_auto_rows": null,
            "grid_column": null,
            "grid_gap": null,
            "grid_row": null,
            "grid_template_areas": null,
            "grid_template_columns": null,
            "grid_template_rows": null,
            "height": null,
            "justify_content": null,
            "justify_items": null,
            "left": null,
            "margin": null,
            "max_height": null,
            "max_width": null,
            "min_height": null,
            "min_width": null,
            "object_fit": null,
            "object_position": null,
            "order": null,
            "overflow": null,
            "overflow_x": null,
            "overflow_y": null,
            "padding": null,
            "right": null,
            "top": null,
            "visibility": null,
            "width": null
          }
        },
        "3909e2c1ef6342d6b7c307fa374df553": {
          "model_module": "@jupyter-widgets/controls",
          "model_name": "DescriptionStyleModel",
          "model_module_version": "1.5.0",
          "state": {
            "_model_module": "@jupyter-widgets/controls",
            "_model_module_version": "1.5.0",
            "_model_name": "DescriptionStyleModel",
            "_view_count": null,
            "_view_module": "@jupyter-widgets/base",
            "_view_module_version": "1.2.0",
            "_view_name": "StyleView",
            "description_width": ""
          }
        },
        "5b5ec944e48d4afa98f5335982622024": {
          "model_module": "@jupyter-widgets/base",
          "model_name": "LayoutModel",
          "model_module_version": "1.2.0",
          "state": {
            "_model_module": "@jupyter-widgets/base",
            "_model_module_version": "1.2.0",
            "_model_name": "LayoutModel",
            "_view_count": null,
            "_view_module": "@jupyter-widgets/base",
            "_view_module_version": "1.2.0",
            "_view_name": "LayoutView",
            "align_content": null,
            "align_items": null,
            "align_self": null,
            "border": null,
            "bottom": null,
            "display": null,
            "flex": null,
            "flex_flow": null,
            "grid_area": null,
            "grid_auto_columns": null,
            "grid_auto_flow": null,
            "grid_auto_rows": null,
            "grid_column": null,
            "grid_gap": null,
            "grid_row": null,
            "grid_template_areas": null,
            "grid_template_columns": null,
            "grid_template_rows": null,
            "height": null,
            "justify_content": null,
            "justify_items": null,
            "left": null,
            "margin": null,
            "max_height": null,
            "max_width": null,
            "min_height": null,
            "min_width": null,
            "object_fit": null,
            "object_position": null,
            "order": null,
            "overflow": null,
            "overflow_x": null,
            "overflow_y": null,
            "padding": null,
            "right": null,
            "top": null,
            "visibility": null,
            "width": null
          }
        },
        "2b60adf1a28e43c8960c18c440a1c400": {
          "model_module": "@jupyter-widgets/controls",
          "model_name": "DescriptionStyleModel",
          "model_module_version": "1.5.0",
          "state": {
            "_model_module": "@jupyter-widgets/controls",
            "_model_module_version": "1.5.0",
            "_model_name": "DescriptionStyleModel",
            "_view_count": null,
            "_view_module": "@jupyter-widgets/base",
            "_view_module_version": "1.2.0",
            "_view_name": "StyleView",
            "description_width": ""
          }
        },
        "5882080c0ba741f7b37d6cdbaffd5ea3": {
          "model_module": "@jupyter-widgets/base",
          "model_name": "LayoutModel",
          "model_module_version": "1.2.0",
          "state": {
            "_model_module": "@jupyter-widgets/base",
            "_model_module_version": "1.2.0",
            "_model_name": "LayoutModel",
            "_view_count": null,
            "_view_module": "@jupyter-widgets/base",
            "_view_module_version": "1.2.0",
            "_view_name": "LayoutView",
            "align_content": null,
            "align_items": null,
            "align_self": null,
            "border": null,
            "bottom": null,
            "display": null,
            "flex": null,
            "flex_flow": null,
            "grid_area": null,
            "grid_auto_columns": null,
            "grid_auto_flow": null,
            "grid_auto_rows": null,
            "grid_column": null,
            "grid_gap": null,
            "grid_row": null,
            "grid_template_areas": null,
            "grid_template_columns": null,
            "grid_template_rows": null,
            "height": null,
            "justify_content": null,
            "justify_items": null,
            "left": null,
            "margin": null,
            "max_height": null,
            "max_width": null,
            "min_height": null,
            "min_width": null,
            "object_fit": null,
            "object_position": null,
            "order": null,
            "overflow": null,
            "overflow_x": null,
            "overflow_y": null,
            "padding": null,
            "right": null,
            "top": null,
            "visibility": null,
            "width": null
          }
        },
        "1833b03bbc4a4116b41441834197a131": {
          "model_module": "@jupyter-widgets/controls",
          "model_name": "ButtonStyleModel",
          "model_module_version": "1.5.0",
          "state": {
            "_model_module": "@jupyter-widgets/controls",
            "_model_module_version": "1.5.0",
            "_model_name": "ButtonStyleModel",
            "_view_count": null,
            "_view_module": "@jupyter-widgets/base",
            "_view_module_version": "1.2.0",
            "_view_name": "StyleView",
            "button_color": null,
            "font_weight": ""
          }
        },
        "b35421b3de514f6a9690944a2ae742c2": {
          "model_module": "@jupyter-widgets/base",
          "model_name": "LayoutModel",
          "model_module_version": "1.2.0",
          "state": {
            "_model_module": "@jupyter-widgets/base",
            "_model_module_version": "1.2.0",
            "_model_name": "LayoutModel",
            "_view_count": null,
            "_view_module": "@jupyter-widgets/base",
            "_view_module_version": "1.2.0",
            "_view_name": "LayoutView",
            "align_content": null,
            "align_items": null,
            "align_self": null,
            "border": null,
            "bottom": null,
            "display": null,
            "flex": null,
            "flex_flow": null,
            "grid_area": null,
            "grid_auto_columns": null,
            "grid_auto_flow": null,
            "grid_auto_rows": null,
            "grid_column": null,
            "grid_gap": null,
            "grid_row": null,
            "grid_template_areas": null,
            "grid_template_columns": null,
            "grid_template_rows": null,
            "height": null,
            "justify_content": null,
            "justify_items": null,
            "left": null,
            "margin": null,
            "max_height": null,
            "max_width": null,
            "min_height": null,
            "min_width": null,
            "object_fit": null,
            "object_position": null,
            "order": null,
            "overflow": null,
            "overflow_x": null,
            "overflow_y": null,
            "padding": null,
            "right": null,
            "top": null,
            "visibility": null,
            "width": null
          }
        },
        "1b426db4cf9e49c8bc3cacacab859b08": {
          "model_module": "@jupyter-widgets/controls",
          "model_name": "DescriptionStyleModel",
          "model_module_version": "1.5.0",
          "state": {
            "_model_module": "@jupyter-widgets/controls",
            "_model_module_version": "1.5.0",
            "_model_name": "DescriptionStyleModel",
            "_view_count": null,
            "_view_module": "@jupyter-widgets/base",
            "_view_module_version": "1.2.0",
            "_view_name": "StyleView",
            "description_width": ""
          }
        },
        "6099464ebeb745d2b15f55f6db125c87": {
          "model_module": "@jupyter-widgets/controls",
          "model_name": "LabelModel",
          "model_module_version": "1.5.0",
          "state": {
            "_dom_classes": [],
            "_model_module": "@jupyter-widgets/controls",
            "_model_module_version": "1.5.0",
            "_model_name": "LabelModel",
            "_view_count": null,
            "_view_module": "@jupyter-widgets/controls",
            "_view_module_version": "1.5.0",
            "_view_name": "LabelView",
            "description": "",
            "description_tooltip": null,
            "layout": "IPY_MODEL_b25d9f693672456ab6c197f334ba059d",
            "placeholder": "​",
            "style": "IPY_MODEL_b953efff13f648658494ad0c14aedaa2",
            "value": "Connecting..."
          }
        },
        "b25d9f693672456ab6c197f334ba059d": {
          "model_module": "@jupyter-widgets/base",
          "model_name": "LayoutModel",
          "model_module_version": "1.2.0",
          "state": {
            "_model_module": "@jupyter-widgets/base",
            "_model_module_version": "1.2.0",
            "_model_name": "LayoutModel",
            "_view_count": null,
            "_view_module": "@jupyter-widgets/base",
            "_view_module_version": "1.2.0",
            "_view_name": "LayoutView",
            "align_content": null,
            "align_items": null,
            "align_self": null,
            "border": null,
            "bottom": null,
            "display": null,
            "flex": null,
            "flex_flow": null,
            "grid_area": null,
            "grid_auto_columns": null,
            "grid_auto_flow": null,
            "grid_auto_rows": null,
            "grid_column": null,
            "grid_gap": null,
            "grid_row": null,
            "grid_template_areas": null,
            "grid_template_columns": null,
            "grid_template_rows": null,
            "height": null,
            "justify_content": null,
            "justify_items": null,
            "left": null,
            "margin": null,
            "max_height": null,
            "max_width": null,
            "min_height": null,
            "min_width": null,
            "object_fit": null,
            "object_position": null,
            "order": null,
            "overflow": null,
            "overflow_x": null,
            "overflow_y": null,
            "padding": null,
            "right": null,
            "top": null,
            "visibility": null,
            "width": null
          }
        },
        "b953efff13f648658494ad0c14aedaa2": {
          "model_module": "@jupyter-widgets/controls",
          "model_name": "DescriptionStyleModel",
          "model_module_version": "1.5.0",
          "state": {
            "_model_module": "@jupyter-widgets/controls",
            "_model_module_version": "1.5.0",
            "_model_name": "DescriptionStyleModel",
            "_view_count": null,
            "_view_module": "@jupyter-widgets/base",
            "_view_module_version": "1.2.0",
            "_view_name": "StyleView",
            "description_width": ""
          }
        },
        "4c277360cce14f628f4b2eb5483e5b7e": {
          "model_module": "@jupyter-widgets/controls",
          "model_name": "HBoxModel",
          "model_module_version": "1.5.0",
          "state": {
            "_dom_classes": [],
            "_model_module": "@jupyter-widgets/controls",
            "_model_module_version": "1.5.0",
            "_model_name": "HBoxModel",
            "_view_count": null,
            "_view_module": "@jupyter-widgets/controls",
            "_view_module_version": "1.5.0",
            "_view_name": "HBoxView",
            "box_style": "",
            "children": [
              "IPY_MODEL_3bd87b7181c1442180ad8ae50364f984",
              "IPY_MODEL_761c84300875416582a3a06caad45bc1",
              "IPY_MODEL_fb11ce2980274f0ab256146e37f52f5b"
            ],
            "layout": "IPY_MODEL_6f05388c8aab4e9dbd1a30db0c4c50cb"
          }
        },
        "3bd87b7181c1442180ad8ae50364f984": {
          "model_module": "@jupyter-widgets/controls",
          "model_name": "HTMLModel",
          "model_module_version": "1.5.0",
          "state": {
            "_dom_classes": [],
            "_model_module": "@jupyter-widgets/controls",
            "_model_module_version": "1.5.0",
            "_model_name": "HTMLModel",
            "_view_count": null,
            "_view_module": "@jupyter-widgets/controls",
            "_view_module_version": "1.5.0",
            "_view_name": "HTMLView",
            "description": "",
            "description_tooltip": null,
            "layout": "IPY_MODEL_e241300df66c40ca8684a12ac76e2981",
            "placeholder": "​",
            "style": "IPY_MODEL_9c911a8c48cb4c6fb9c05068d21e4e47",
            "value": "Loading checkpoint shards: 100%"
          }
        },
        "761c84300875416582a3a06caad45bc1": {
          "model_module": "@jupyter-widgets/controls",
          "model_name": "FloatProgressModel",
          "model_module_version": "1.5.0",
          "state": {
            "_dom_classes": [],
            "_model_module": "@jupyter-widgets/controls",
            "_model_module_version": "1.5.0",
            "_model_name": "FloatProgressModel",
            "_view_count": null,
            "_view_module": "@jupyter-widgets/controls",
            "_view_module_version": "1.5.0",
            "_view_name": "ProgressView",
            "bar_style": "success",
            "description": "",
            "description_tooltip": null,
            "layout": "IPY_MODEL_4a7b52b5b3f840a0a86469c9c1fc1864",
            "max": 2,
            "min": 0,
            "orientation": "horizontal",
            "style": "IPY_MODEL_9d791e9608864d5090d5e60323462604",
            "value": 2
          }
        },
        "fb11ce2980274f0ab256146e37f52f5b": {
          "model_module": "@jupyter-widgets/controls",
          "model_name": "HTMLModel",
          "model_module_version": "1.5.0",
          "state": {
            "_dom_classes": [],
            "_model_module": "@jupyter-widgets/controls",
            "_model_module_version": "1.5.0",
            "_model_name": "HTMLModel",
            "_view_count": null,
            "_view_module": "@jupyter-widgets/controls",
            "_view_module_version": "1.5.0",
            "_view_name": "HTMLView",
            "description": "",
            "description_tooltip": null,
            "layout": "IPY_MODEL_d7eee5d0e68c47a9b69aef49031ca65f",
            "placeholder": "​",
            "style": "IPY_MODEL_9884d634c5354210bd0eeb688747c741",
            "value": " 2/2 [00:26&lt;00:00, 11.03s/it]"
          }
        },
        "6f05388c8aab4e9dbd1a30db0c4c50cb": {
          "model_module": "@jupyter-widgets/base",
          "model_name": "LayoutModel",
          "model_module_version": "1.2.0",
          "state": {
            "_model_module": "@jupyter-widgets/base",
            "_model_module_version": "1.2.0",
            "_model_name": "LayoutModel",
            "_view_count": null,
            "_view_module": "@jupyter-widgets/base",
            "_view_module_version": "1.2.0",
            "_view_name": "LayoutView",
            "align_content": null,
            "align_items": null,
            "align_self": null,
            "border": null,
            "bottom": null,
            "display": null,
            "flex": null,
            "flex_flow": null,
            "grid_area": null,
            "grid_auto_columns": null,
            "grid_auto_flow": null,
            "grid_auto_rows": null,
            "grid_column": null,
            "grid_gap": null,
            "grid_row": null,
            "grid_template_areas": null,
            "grid_template_columns": null,
            "grid_template_rows": null,
            "height": null,
            "justify_content": null,
            "justify_items": null,
            "left": null,
            "margin": null,
            "max_height": null,
            "max_width": null,
            "min_height": null,
            "min_width": null,
            "object_fit": null,
            "object_position": null,
            "order": null,
            "overflow": null,
            "overflow_x": null,
            "overflow_y": null,
            "padding": null,
            "right": null,
            "top": null,
            "visibility": null,
            "width": null
          }
        },
        "e241300df66c40ca8684a12ac76e2981": {
          "model_module": "@jupyter-widgets/base",
          "model_name": "LayoutModel",
          "model_module_version": "1.2.0",
          "state": {
            "_model_module": "@jupyter-widgets/base",
            "_model_module_version": "1.2.0",
            "_model_name": "LayoutModel",
            "_view_count": null,
            "_view_module": "@jupyter-widgets/base",
            "_view_module_version": "1.2.0",
            "_view_name": "LayoutView",
            "align_content": null,
            "align_items": null,
            "align_self": null,
            "border": null,
            "bottom": null,
            "display": null,
            "flex": null,
            "flex_flow": null,
            "grid_area": null,
            "grid_auto_columns": null,
            "grid_auto_flow": null,
            "grid_auto_rows": null,
            "grid_column": null,
            "grid_gap": null,
            "grid_row": null,
            "grid_template_areas": null,
            "grid_template_columns": null,
            "grid_template_rows": null,
            "height": null,
            "justify_content": null,
            "justify_items": null,
            "left": null,
            "margin": null,
            "max_height": null,
            "max_width": null,
            "min_height": null,
            "min_width": null,
            "object_fit": null,
            "object_position": null,
            "order": null,
            "overflow": null,
            "overflow_x": null,
            "overflow_y": null,
            "padding": null,
            "right": null,
            "top": null,
            "visibility": null,
            "width": null
          }
        },
        "9c911a8c48cb4c6fb9c05068d21e4e47": {
          "model_module": "@jupyter-widgets/controls",
          "model_name": "DescriptionStyleModel",
          "model_module_version": "1.5.0",
          "state": {
            "_model_module": "@jupyter-widgets/controls",
            "_model_module_version": "1.5.0",
            "_model_name": "DescriptionStyleModel",
            "_view_count": null,
            "_view_module": "@jupyter-widgets/base",
            "_view_module_version": "1.2.0",
            "_view_name": "StyleView",
            "description_width": ""
          }
        },
        "4a7b52b5b3f840a0a86469c9c1fc1864": {
          "model_module": "@jupyter-widgets/base",
          "model_name": "LayoutModel",
          "model_module_version": "1.2.0",
          "state": {
            "_model_module": "@jupyter-widgets/base",
            "_model_module_version": "1.2.0",
            "_model_name": "LayoutModel",
            "_view_count": null,
            "_view_module": "@jupyter-widgets/base",
            "_view_module_version": "1.2.0",
            "_view_name": "LayoutView",
            "align_content": null,
            "align_items": null,
            "align_self": null,
            "border": null,
            "bottom": null,
            "display": null,
            "flex": null,
            "flex_flow": null,
            "grid_area": null,
            "grid_auto_columns": null,
            "grid_auto_flow": null,
            "grid_auto_rows": null,
            "grid_column": null,
            "grid_gap": null,
            "grid_row": null,
            "grid_template_areas": null,
            "grid_template_columns": null,
            "grid_template_rows": null,
            "height": null,
            "justify_content": null,
            "justify_items": null,
            "left": null,
            "margin": null,
            "max_height": null,
            "max_width": null,
            "min_height": null,
            "min_width": null,
            "object_fit": null,
            "object_position": null,
            "order": null,
            "overflow": null,
            "overflow_x": null,
            "overflow_y": null,
            "padding": null,
            "right": null,
            "top": null,
            "visibility": null,
            "width": null
          }
        },
        "9d791e9608864d5090d5e60323462604": {
          "model_module": "@jupyter-widgets/controls",
          "model_name": "ProgressStyleModel",
          "model_module_version": "1.5.0",
          "state": {
            "_model_module": "@jupyter-widgets/controls",
            "_model_module_version": "1.5.0",
            "_model_name": "ProgressStyleModel",
            "_view_count": null,
            "_view_module": "@jupyter-widgets/base",
            "_view_module_version": "1.2.0",
            "_view_name": "StyleView",
            "bar_color": null,
            "description_width": ""
          }
        },
        "d7eee5d0e68c47a9b69aef49031ca65f": {
          "model_module": "@jupyter-widgets/base",
          "model_name": "LayoutModel",
          "model_module_version": "1.2.0",
          "state": {
            "_model_module": "@jupyter-widgets/base",
            "_model_module_version": "1.2.0",
            "_model_name": "LayoutModel",
            "_view_count": null,
            "_view_module": "@jupyter-widgets/base",
            "_view_module_version": "1.2.0",
            "_view_name": "LayoutView",
            "align_content": null,
            "align_items": null,
            "align_self": null,
            "border": null,
            "bottom": null,
            "display": null,
            "flex": null,
            "flex_flow": null,
            "grid_area": null,
            "grid_auto_columns": null,
            "grid_auto_flow": null,
            "grid_auto_rows": null,
            "grid_column": null,
            "grid_gap": null,
            "grid_row": null,
            "grid_template_areas": null,
            "grid_template_columns": null,
            "grid_template_rows": null,
            "height": null,
            "justify_content": null,
            "justify_items": null,
            "left": null,
            "margin": null,
            "max_height": null,
            "max_width": null,
            "min_height": null,
            "min_width": null,
            "object_fit": null,
            "object_position": null,
            "order": null,
            "overflow": null,
            "overflow_x": null,
            "overflow_y": null,
            "padding": null,
            "right": null,
            "top": null,
            "visibility": null,
            "width": null
          }
        },
        "9884d634c5354210bd0eeb688747c741": {
          "model_module": "@jupyter-widgets/controls",
          "model_name": "DescriptionStyleModel",
          "model_module_version": "1.5.0",
          "state": {
            "_model_module": "@jupyter-widgets/controls",
            "_model_module_version": "1.5.0",
            "_model_name": "DescriptionStyleModel",
            "_view_count": null,
            "_view_module": "@jupyter-widgets/base",
            "_view_module_version": "1.2.0",
            "_view_name": "StyleView",
            "description_width": ""
          }
        }
      }
    }
  },
  "nbformat": 4,
  "nbformat_minor": 0
}