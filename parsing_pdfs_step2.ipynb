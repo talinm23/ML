{
  "cells": [
    {
      "cell_type": "markdown",
      "metadata": {
        "id": "view-in-github",
        "colab_type": "text"
      },
      "source": [
        "<a href=\"https://colab.research.google.com/github/talinm23/ML/blob/main/parsing_pdfs_step2.ipynb\" target=\"_parent\"><img src=\"https://colab.research.google.com/assets/colab-badge.svg\" alt=\"Open In Colab\"/></a>"
      ]
    },
    {
      "cell_type": "code",
      "execution_count": null,
      "metadata": {
        "id": "dFQT__xRIvtp"
      },
      "outputs": [],
      "source": []
    },
    {
      "cell_type": "code",
      "source": [
        "# In order to run these codes (parsing pdfs step 1 and 2), you can run them in a Google Colab notebook.\n",
        "# To run fast, you should get connected to a GPU in the Colab environment.\n",
        "# In the Colab secrets, create and copy your HUGGING_FACE_TOKEN and MONGO_URI (MongoDB URI) to the Secrets section."
      ],
      "metadata": {
        "id": "UuIOT-LmVy1Y"
      },
      "execution_count": null,
      "outputs": []
    },
    {
      "cell_type": "code",
      "source": [
        "# Clear all variables\n",
        "%reset -f\n",
        "#Check for Persistent Extensions or Cache Files\n",
        "import os\n",
        "import shutil\n",
        "cache_dir = os.path.expanduser('~/.cache')\n",
        "shutil.rmtree(cache_dir, ignore_errors=True)"
      ],
      "metadata": {
        "id": "eOuTDxlmQ9k4"
      },
      "execution_count": null,
      "outputs": []
    },
    {
      "cell_type": "code",
      "source": [
        "# imports and granting access to the google drive to extrace the saved embedding vector information from the step 1 notebook.\n",
        "import pandas as pd\n",
        "from ast import literal_eval\n",
        "\n",
        "# Get connected to Google drive\n",
        "from google.colab import drive\n",
        "drive.mount('/content/drive')"
      ],
      "metadata": {
        "id": "tG5rodo-Q9oI"
      },
      "execution_count": null,
      "outputs": []
    },
    {
      "cell_type": "code",
      "source": [
        "# Access the saved file from step 1.\n",
        "file_path_to_save = '/content/drive/My Drive/Colab_Notebooks/csv_saved/'\n",
        "dataset = pd.read_csv(file_path_to_save+'dataset_embedded.csv')"
      ],
      "metadata": {
        "id": "_iDo3GYOQ9q5"
      },
      "execution_count": null,
      "outputs": []
    },
    {
      "cell_type": "code",
      "source": [
        "# Apply literal_eval on the \"embeddings\" column to extract the list inside the string in each row and save it into a new column.\n",
        "dataset['embedding'] = dataset['embedding_'].apply(literal_eval)"
      ],
      "metadata": {
        "id": "UALMR1S1Q9tc"
      },
      "execution_count": null,
      "outputs": []
    },
    {
      "cell_type": "code",
      "source": [
        "pip install pymongo"
      ],
      "metadata": {
        "id": "ISMG2e5xRDk3"
      },
      "execution_count": null,
      "outputs": []
    },
    {
      "cell_type": "code",
      "source": [
        "# Connecting to MongoDB\n",
        "import pymongo\n",
        "from google.colab import userdata\n",
        "\n",
        "def get_mongo_client(mongo_uri):\n",
        "  \"\"\"Establish connection to the MongoDB.\"\"\"\n",
        "  try:\n",
        "    client = pymongo.MongoClient(mongo_uri, appname=\"devrel.content.python\"\n",
        "    #,ssl=True,tlsAllowInvalidCertificates=True\n",
        "    ,connectTimeoutMS=40000\n",
        "    ,socketTimeoutMS=40000)\n",
        "    print(\"Connection to MongoDB successful\")\n",
        "    return client\n",
        "  except pymongo.errors.ConnectionFailure as e:\n",
        "    print(f\"Connection failed: {e}\")\n",
        "    return None\n",
        "\n",
        "mongo_uri = userdata.get('MONGO_URI')\n",
        "if not mongo_uri:\n",
        "  print(\"MONGO_URI not set in environment variables\")\n",
        "\n",
        "mongo_client = get_mongo_client(mongo_uri)\n",
        "\n",
        "# Ingest data into MongoDB (into the created collection)\n",
        "db = mongo_client['coldwell']\n",
        "collection = db['coldwell_collection']\n",
        "print('db:',db)\n",
        "print('collection:',collection)"
      ],
      "metadata": {
        "id": "GMLIRx7WQ9wG"
      },
      "execution_count": null,
      "outputs": []
    },
    {
      "cell_type": "code",
      "source": [
        "# Delete any existing records in the collection just in case. So we start with an empty collection.\n",
        "collection.delete_many({})"
      ],
      "metadata": {
        "id": "VywR1MRnQ9y1"
      },
      "execution_count": null,
      "outputs": []
    },
    {
      "cell_type": "code",
      "source": [
        "# Convert the dataset into a list of dictionary, where each data row is a new record.\n",
        "# Then insert that documents variable in batch into the collection.\n",
        "documents = dataset.to_dict(\"records\")\n",
        "collection.insert_many(documents)\n",
        "print(\"Data ingestion into MongoDB completed\")"
      ],
      "metadata": {
        "id": "_my_Ix_kQ94X"
      },
      "execution_count": null,
      "outputs": []
    },
    {
      "cell_type": "code",
      "source": [
        "from sentence_transformers import SentenceTransformer\n",
        "\n",
        "# https://huggingface.co/thenlper/gte-large\n",
        "embedding_model = SentenceTransformer(\"thenlper/gte-large\")\n",
        "\n",
        "\n",
        "def get_embedding(text: str) -> list[float]:\n",
        "    if not text.strip():\n",
        "        print(\"Attempted to get embedding for empty text.\")\n",
        "        return []\n",
        "\n",
        "    embedding = embedding_model.encode(text)\n",
        "\n",
        "    return embedding.tolist()"
      ],
      "metadata": {
        "id": "z8Qj0KJxRSJs"
      },
      "execution_count": null,
      "outputs": []
    },
    {
      "cell_type": "code",
      "source": [
        "# Next, we perform a vector search in the MongoDB collection based on the\n",
        "# user query. We pass in the user's query string.\n",
        "# And it searches the MongoDB collection and returns a list of matchig documents.\n",
        "\n",
        "# Generate embedding for the user query\n",
        "query = \"What is the name of the author? what are the natural remedies? What are the most effective cures? list the natural remedies.\"\n",
        "\n",
        "query_embedding = get_embedding(query)\n",
        "\n",
        "# Define the vector search pipeline\n",
        "vector_search_stage = {\n",
        "    \"$vectorSearch\": {\n",
        "        \"index\": \"vector_index\",\n",
        "        \"queryVector\": query_embedding,\n",
        "        \"path\": \"embedding\",\n",
        "        \"numCandidates\": 1000 ,  # Number of candidate matches to consider\n",
        "        \"limit\": 50 # Return top n matches\n",
        "    }\n",
        "}\n",
        "\n",
        "project_stage = {\n",
        "    \"$project\": {\n",
        "        \"_id\": 1,  # Can exclude the _id field\n",
        "        \"sentences\": 1, # Include the sentences fiels so that we see the actual sentences.\n",
        "        \"score\": {\n",
        "            \"$meta\": \"vectorSearchScore\"  # Include the search score\n",
        "        }\n",
        "    }\n",
        "}\n",
        "\n",
        "pipeline = [vector_search_stage, project_stage]\n",
        "\n",
        "# Execute the search\n",
        "results = collection.aggregate(pipeline)\n",
        "\n",
        "# Define Get knowledge by the list of results returned from the vector search.\n",
        "get_knowledge = list(results)\n",
        "\n",
        "# Add all the qualifying sentences from the vector search.\n",
        "search_result = \"\"\n",
        "for result in get_knowledge:\n",
        "    search_result += f\"result: {result.get('sentences')}\\n\"\n",
        "\n"
      ],
      "metadata": {
        "id": "CKYm1zNfRSMa"
      },
      "execution_count": null,
      "outputs": []
    },
    {
      "cell_type": "code",
      "source": [
        "source_information = search_result\n",
        "combined_information = (\n",
        "    f\"Query: {query}\\nContinue to answer the query by using the Search Results:\\n{source_information}.\"\n",
        ")"
      ],
      "metadata": {
        "id": "Cy6libb3RSPC"
      },
      "execution_count": null,
      "outputs": []
    },
    {
      "cell_type": "code",
      "source": [
        "from huggingface_hub import notebook_login\n",
        "from huggingface_hub import login\n",
        "notebook_login()"
      ],
      "metadata": {
        "id": "sJOGZ7rQRSRj"
      },
      "execution_count": null,
      "outputs": []
    },
    {
      "cell_type": "code",
      "source": [
        "from transformers import AutoTokenizer, AutoModelForCausalLM\n",
        "\n",
        "tokenizer = AutoTokenizer.from_pretrained(\"google/gemma-2b-it\")\n",
        "# CPU Enabled uncomment below 👇🏽\n",
        "# model = AutoModelForCausalLM.from_pretrained(\"google/gemma-2b-it\")\n",
        "# GPU Enabled use below 👇🏽\n",
        "model = AutoModelForCausalLM.from_pretrained(\"google/gemma-2b-it\", device_map=\"auto\")"
      ],
      "metadata": {
        "id": "uMt6dNUoRb4p"
      },
      "execution_count": null,
      "outputs": []
    },
    {
      "cell_type": "code",
      "source": [
        "# Moving tensors to GPU\n",
        "input_ids = tokenizer(combined_information, return_tensors=\"pt\").to(\"cuda\")\n",
        "response = model.generate(**input_ids, max_new_tokens=1000)\n",
        "print(tokenizer.decode(response[0]))"
      ],
      "metadata": {
        "id": "fLMAsElBRb9Z"
      },
      "execution_count": null,
      "outputs": []
    },
    {
      "cell_type": "code",
      "source": [],
      "metadata": {
        "id": "8vhy_NbWRSUD"
      },
      "execution_count": null,
      "outputs": []
    },
    {
      "cell_type": "code",
      "source": [],
      "metadata": {
        "id": "L2t2yuczRSWz"
      },
      "execution_count": null,
      "outputs": []
    },
    {
      "cell_type": "code",
      "source": [],
      "metadata": {
        "id": "68lSO33BQ97P"
      },
      "execution_count": null,
      "outputs": []
    },
    {
      "cell_type": "code",
      "source": [],
      "metadata": {
        "id": "Q07HCPmBmyDA"
      },
      "execution_count": null,
      "outputs": []
    }
  ],
  "metadata": {
    "colab": {
      "provenance": [],
      "gpuType": "T4",
      "authorship_tag": "ABX9TyM/rE5yefW3Q2gwiQ/PdLue",
      "include_colab_link": true
    },
    "kernelspec": {
      "display_name": "Python 3",
      "name": "python3"
    },
    "language_info": {
      "name": "python"
    },
    "accelerator": "GPU"
  },
  "nbformat": 4,
  "nbformat_minor": 0
}