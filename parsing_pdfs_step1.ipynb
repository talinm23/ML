{
  "nbformat": 4,
  "nbformat_minor": 0,
  "metadata": {
    "colab": {
      "provenance": [],
      "authorship_tag": "ABX9TyOMsFcRDH8CXy5fPrdFVx3f",
      "include_colab_link": true
    },
    "kernelspec": {
      "name": "python3",
      "display_name": "Python 3"
    },
    "language_info": {
      "name": "python"
    }
  },
  "cells": [
    {
      "cell_type": "markdown",
      "metadata": {
        "id": "view-in-github",
        "colab_type": "text"
      },
      "source": [
        "<a href=\"https://colab.research.google.com/github/talinm23/ML/blob/main/parsing_pdfs_step1.ipynb\" target=\"_parent\"><img src=\"https://colab.research.google.com/assets/colab-badge.svg\" alt=\"Open In Colab\"/></a>"
      ]
    },
    {
      "cell_type": "code",
      "execution_count": null,
      "metadata": {
        "id": "5WLY21lYjh6s"
      },
      "outputs": [],
      "source": [
        "# In order to run these codes (parsing pdfs step 1 and 2), you can run them in a Google Colab notebook.\n",
        "# To run fast, you should get connected to a GPU in the Colab environment.\n",
        "# In the Colab secrets, create and copy your HUGGING_FACE_TOKEN and MONGO_URI (MongoDB URI) to the Secrets section."
      ]
    },
    {
      "cell_type": "code",
      "source": [
        "import pandas as pd\n",
        "from ast import literal_eval"
      ],
      "metadata": {
        "id": "k7YsUO2dSKmc"
      },
      "execution_count": null,
      "outputs": []
    },
    {
      "cell_type": "code",
      "source": [
        "from google.colab import drive\n",
        "drive.mount('/content/drive')\n",
        "file_path = '/content/drive/My Drive/Colab_Notebooks/pdfs/TheOnlyCancerPatientCure_PDF_Download.pdf'"
      ],
      "metadata": {
        "id": "gLT_sOl5SKpI"
      },
      "execution_count": null,
      "outputs": []
    },
    {
      "cell_type": "code",
      "source": [
        "pip install PyPDF2"
      ],
      "metadata": {
        "id": "uKzYWd_HSKrt"
      },
      "execution_count": null,
      "outputs": []
    },
    {
      "cell_type": "code",
      "source": [
        "import PyPDF2\n",
        "\n",
        "def extract_sentences(pdf_file):\n",
        "    with open(pdf_file, 'rb') as file:\n",
        "        reader = PyPDF2.PdfReader(file)\n",
        "        text = \"\"\n",
        "        for page in reader.pages:\n",
        "            text += page.extract_text()\n",
        "\n",
        "    sentences = text.split('. ') # Basic sentence splitting\n",
        "    return sentences\n",
        "\n",
        "sentences = extract_sentences(file_path)\n"
      ],
      "metadata": {
        "id": "u-r90MVeSKuG"
      },
      "execution_count": null,
      "outputs": []
    },
    {
      "cell_type": "code",
      "source": [
        "sentences_endline_removed = pd.Series(sentences).str.replace('\\n', '')"
      ],
      "metadata": {
        "id": "sON8w2j7SKwa"
      },
      "execution_count": null,
      "outputs": []
    },
    {
      "cell_type": "code",
      "source": [
        "from sentence_transformers import SentenceTransformer\n",
        "\n",
        "# https://huggingface.co/thenlper/gte-large\n",
        "embedding_model = SentenceTransformer(\"thenlper/gte-large\")\n",
        "\n",
        "\n",
        "def get_embedding(text: str) -> list[float]:\n",
        "    if not text.strip():\n",
        "        print(\"Attempted to get embedding for empty text.\")\n",
        "        return []\n",
        "\n",
        "    embedding = embedding_model.encode(text)\n",
        "\n",
        "    return embedding.tolist()\n"
      ],
      "metadata": {
        "id": "_iTRkdKGSTuk"
      },
      "execution_count": null,
      "outputs": []
    },
    {
      "cell_type": "code",
      "source": [
        "# Uncomment for new runs if needed:\n",
        "dataset_embedded = pd.Series(sentences_endline_removed).apply(get_embedding)"
      ],
      "metadata": {
        "id": "kIDcFtzCSTxQ"
      },
      "execution_count": null,
      "outputs": []
    },
    {
      "cell_type": "code",
      "source": [
        "dataset = pd.DataFrame(dataset_embedded)\n",
        "dataset.rename({0: 'embedding_'}, axis=1, inplace=True)"
      ],
      "metadata": {
        "id": "j7ikcJNaST0G"
      },
      "execution_count": null,
      "outputs": []
    },
    {
      "cell_type": "code",
      "source": [
        "#dataset_new = pd.DataFrame(dataset)\n",
        "dataset['sentences'] = sentences_endline_removed"
      ],
      "metadata": {
        "id": "ZzyqBMg3ST2z"
      },
      "execution_count": null,
      "outputs": []
    },
    {
      "cell_type": "code",
      "source": [
        "# save the csv file:\n",
        "file_path_to_save = '/content/drive/My Drive/Colab_Notebooks/csv_saved/'\n",
        "dataset.to_csv(file_path_to_save+'dataset_embedded.csv', index=False)\n"
      ],
      "metadata": {
        "id": "fbWnu89mSKzX"
      },
      "execution_count": null,
      "outputs": []
    },
    {
      "cell_type": "code",
      "source": [],
      "metadata": {
        "id": "j8Z6vlmlSK13"
      },
      "execution_count": null,
      "outputs": []
    },
    {
      "cell_type": "code",
      "source": [],
      "metadata": {
        "id": "_WBtsFaQSmVs"
      },
      "execution_count": null,
      "outputs": []
    },
    {
      "cell_type": "code",
      "source": [],
      "metadata": {
        "id": "J8JH73EMSmY7"
      },
      "execution_count": null,
      "outputs": []
    },
    {
      "cell_type": "code",
      "source": [],
      "metadata": {
        "id": "n9n9D1asQGqa"
      },
      "execution_count": null,
      "outputs": []
    },
    {
      "cell_type": "code",
      "source": [],
      "metadata": {
        "id": "PX6Zw1YbP-W5"
      },
      "execution_count": null,
      "outputs": []
    }
  ]
}